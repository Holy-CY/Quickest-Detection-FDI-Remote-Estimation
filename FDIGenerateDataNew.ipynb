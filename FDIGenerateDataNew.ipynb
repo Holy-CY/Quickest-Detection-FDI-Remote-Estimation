{
 "cells": [
  {
   "cell_type": "markdown",
   "metadata": {
    "id": "xNGcgsecqAy-"
   },
   "source": [
    "\n",
    "#**FDI Detection Data Generator New**"
   ]
  },
  {
   "cell_type": "markdown",
   "metadata": {
    "id": "yw8YBz2gqH-S"
   },
   "source": [
    "Importing Libraries"
   ]
  },
  {
   "cell_type": "code",
   "execution_count": null,
   "metadata": {
    "id": "Vk1isbunpbQP"
   },
   "outputs": [],
   "source": [
    "import matplotlib as mpl\n",
    "from mpl_toolkits.mplot3d import Axes3D\n",
    "import numpy as np\n",
    "import matplotlib.pyplot as plt\n",
    "from sklearn.linear_model import LinearRegression\n",
    "from scipy.stats import multivariate_normal\n",
    "\n",
    "mpl.rcParams['legend.fontsize'] = 10"
   ]
  },
  {
   "cell_type": "markdown",
   "metadata": {
    "id": "LFfREoD4sj3z"
   },
   "source": [
    "Defining Sensors Parameters"
   ]
  },
  {
   "cell_type": "code",
   "execution_count": null,
   "metadata": {
    "id": "uJxyg8PqsjIv"
   },
   "outputs": [],
   "source": [
    "n_sensors = 2\n",
    "\n",
    "#A=np.random.rand(2,2)\n",
    "#for i in range(0,A.shape[0]):\n",
    "#    A[:,i]=0.5*A[:,i]/np.sum(A[:,i])\n",
    "A = np.array([[1,0],[0,1]])\n",
    "C = []\n",
    "C.append(np.array([[0.5,0],[0,1]]))\n",
    "C.append(np.array([[0,0.5],[1,0]]))\n",
    "C = np.array(C)\n",
    "C = np.reshape(C, (C.shape[0]*C.shape[1], C.shape[2]))\n",
    "\n",
    "Q = np.identity(2)\n",
    "mu_x = np.zeros((2,))\n",
    "\n",
    "R = np.identity(4)\n",
    "mu_y = np.zeros((4,))"
   ]
  },
  {
   "cell_type": "markdown",
   "metadata": {
    "id": "rMqW1PZws_Xc"
   },
   "source": [
    "Defining Estimation Functions"
   ]
  },
  {
   "cell_type": "code",
   "execution_count": null,
   "metadata": {
    "id": "kKbRcALYtHHJ"
   },
   "outputs": [],
   "source": [
    "def random(mu, var):\n",
    "\treturn np.random.multivariate_normal(mu, var)\n",
    "\n",
    "def process(x):\n",
    "\tx_new = np.dot(A,x) + random(mu_x, Q)\n",
    "\treturn x_new\n",
    "\n",
    "def observation(x):\n",
    "\ty_new = np.dot(C,x) + random(mu_y, R)\n",
    "\treturn y_new\n",
    "\n",
    "def run_process(T):      #T is time\n",
    "\tx=[]\n",
    "\tx.append(np.zeros(2,))\n",
    "\ty_start=np.dot(C,x[0]) + random(mu_y, R)\n",
    "\ty=[y_start]\n",
    "\tfor j in range(T-1):\n",
    "\t\tx_temp = process(x[j])\n",
    "\t\tx.append(x_temp)\n",
    "\t\ty.append(observation(x_temp))\n",
    "\treturn (np.array(x).T,np.array(y).T)\n",
    "\n",
    "\n",
    "\n",
    "def estimate(z_k, x_k, P_k):  #\n",
    "\tI = np.identity(2)\n",
    "\tP_k_n = A @ P_k @ A.T + Q\n",
    "\tK_k = P_k_n @ C.T @ np.linalg.inv(C @ P_k_n @ C.T + R)\n",
    "\tx_k_n = np.dot(A, x_k) + np.dot(K_k, z_k)\n",
    "\tP_k = (I - K_k @ C) @ P_k_n\n",
    "\treturn (P_k, x_k_n)\n",
    "\n",
    "def detect(x_hat, y_k):\n",
    "\tz_k = y_k - C @ A @ x_hat\n",
    "\treturn z_k\n",
    "\n",
    "def attack(z_k, T, sigma_b):\n",
    "\treturn np.dot(T,z_k) + random(np.zeros((2,)),sigma_b)\n",
    "\n",
    "\n",
    "def run(y, attack_instant, T, sigma_b):\n",
    "\tP_0 = np.identity(2)\n",
    "\tP_k = P_0\n",
    "\tx_hat = []\n",
    "\tz = []\n",
    "\tP = []\n",
    "\t#T = np.identity(2)\n",
    "\t#sigma_b = np.identity(2)\n",
    "\n",
    "\tx_hat_k = np.zeros(2,)\n",
    "\tfor k in range(N):\n",
    "\t\tz_k = detect(x_hat_k, y[:,k])\n",
    "\t\tif(k>=attack_instant and attack_instant != -1):\n",
    "\t\t\tz_k[:2] = attack(z_k[:2], T, sigma_b)\n",
    "\t\tz.append(z_k)\n",
    "\t\t(P_k, x_hat_k) = estimate(z_k, x_hat_k, P_k)\n",
    "\t\tx_hat.append(x_hat_k)\n",
    "\t\tP.append(P_k)\n",
    "\tvar = C @ (A @ P_k @ A.T + Q) @ C.T + R\n",
    "\treturn (np.array(x_hat).T, np.array(z).T, P, var)\n",
    "\n",
    "def estimate_after_attack(z_k, x_k, P_k, R_s, R_a):\n",
    "\tI = np.identity(2)\n",
    "\tR_ = np.copy(R)\n",
    "\tR_[:2,:2] = R_a\n",
    "\tR_[2:,2:] = R_s\n",
    "\tP_k_n = A @ P_k @ A.T + Q\n",
    "\tK_k = P_k_n @ C.T @ np.linalg.inv(C @ P_k_n @ C.T + R_)\n",
    "\tx_k_n = np.dot(A, x_k) + np.dot(K_k, z_k)\n",
    "\tP_k = (I - K_k @ C) @ P_k_n\n",
    "\treturn (P_k, x_k_n)\n",
    "\n",
    "def run_attack(y, attack_instant, T, sigma_b, x_hat, z, P, len):\n",
    "\tP_0 = P[attack_instant-1]\n",
    "\tP_k = P_0\n",
    "\tx_hat_corr = []\n",
    "\tR_s = R[2:,2:]\n",
    "\tT_inv = np.linalg.inv(T)\n",
    "\tR_a = R[:2,:2] + T_inv @ sigma_b @ T_inv.T\n",
    "\tR_ = np.copy(R)\n",
    "\tR_[:2,:2] = R_a\n",
    "\tT_ = np.identity(4)\n",
    "\tT_[:2,:2] = T\n",
    "\tmean = np.copy(z[:,attack_instant:])\n",
    "\t#var_s = []\n",
    "\t#var_a = []\n",
    "\tvar = []\n",
    "\tz_ret = np.copy(z[:,attack_instant:])\n",
    "\tC_a = C[:2,:]\n",
    "\tC_s = C[2:,:]\n",
    "\tx_hat_k = x_hat[:,attack_instant - 1]\n",
    "\tfor k in range(attack_instant, len+1):\n",
    "\t\tP_ = A @ P_k @ A.T + Q\n",
    "\t\t#var_s.append(C_s @ P_ @ C_s.T + R_s)\n",
    "\t\t#var_a.append(T @ (C_a @ P_ @ C_a.T + R_a) @ T.T)\n",
    "\t\tvar.append(T_ @ (C @ P_ @ C.T + R_) @ T_.T)\n",
    "\t\tz_ret[:2,k-attack_instant] = np.dot(np.linalg.inv(T),z[:2,k]) + np.dot(C_a @ A, x_hat[:,k-1] - x_hat_k)\n",
    "\t\tz_ret[2:,k-attack_instant] = z[2:,k] + np.dot(C_s @ A, x_hat[:,k-1] - x_hat_k)\n",
    "\t\t(P_k, x_hat_k) = estimate_after_attack(z_ret[:,k-attack_instant], x_hat_k, P_k, R_s, R_a)\n",
    "\t\tx_hat_corr.append(x_hat_k)\n",
    "\t\tmean[:2,k-attack_instant] = np.dot(T @ C_a @ A, x_hat_k - x_hat[:,k-1])\n",
    "\t\tmean[2:,k-attack_instant] = np.dot(C_s @ A, x_hat_k - x_hat[:,k-1])\n",
    "\treturn (np.array(x_hat_corr).T, np.array(mean).T, var)\n",
    " \n",
    "def probab_calculation(z, steady_var, y, x_hat, P, limit):\n",
    "\tPmat = np.zeros((N,N))   ### row-> z_k  col->attack_instant\n",
    "\tfor i in range(limit):  ##### This can be change to actual attack instant + some delay\n",
    "\t\t(x_hat_corr, mean, var_after_attack) = run_attack(y, i, T, sigma_b, x_hat, z, P, N-1)\n",
    "\t\tfor j in range(limit):    ##### This can be change to actual attack instant + some delay\n",
    "\t\t\tif (j<i):\n",
    "\t\t\t\tPmat[i,j] = multivariate_normal(mean=np.zeros((4,)), cov=np.array(steady_var)).pdf(z[:,j]) \n",
    "\t\t\telse:\n",
    "\t\t\t\tPmat[i,j] = multivariate_normal(mean=mean[j-i,:], cov=np.array(var_after_attack)[j-i,:,:]).pdf(z[:,j])\n",
    "\t\n",
    "\tPmat_history = np.zeros((N,N))\n",
    "\tPmat_history[:,0] = Pmat[:,0]\n",
    "\tfor j in range(1,N):\n",
    "\t\tPmat_history[:,j] = Pmat_history[:,j-1]*Pmat[:,j]\n",
    "\treturn (Pmat, Pmat_history)\n"
   ]
  },
  {
   "cell_type": "markdown",
   "metadata": {
    "id": "5jSRJ0rbtN21"
   },
   "source": [
    "Defining Posterior Belief Probability Function"
   ]
  },
  {
   "cell_type": "code",
   "execution_count": null,
   "metadata": {
    "id": "dtwzJhd-tS91"
   },
   "outputs": [],
   "source": [
    "def get_pi_seq(z,steady_var,y,x_hat,P, real_attack_instant):\n",
    "    pi=[]\n",
    "    pi.append(pi_0)\n",
    "    (Pmat, Pmat_history) = probab_calculation(z, steady_var, y, x_hat, P, min(N,real_attack_instant + 10))\n",
    "    for i in range(N):\n",
    "        #print(str(i)+\":  \"+str(pi[i]))\n",
    "        if pi[i]>0.99:\n",
    "            print('0.99 surpassed at time', i)\n",
    "            print('attack at time', attack_instant)\n",
    "            for k in range(i,N):\n",
    "                pi.append(1)\n",
    "            break\n",
    "        \n",
    "        beta=pi[i]/((1-pi[i])*(1-theta))+theta/(1-theta)\n",
    "        beta=beta/(multivariate_normal(mean=[0,0,0,0], cov=steady_var).pdf(z[:,i])+0.0001)\n",
    "        if (i == real_attack_instant + 9):\n",
    "            (Pmat, Pmat_history) = probab_calculation(z, steady_var, y, x_hat, P, N)\n",
    "\n",
    "        pc_term=0\n",
    "        pc_den = 0\n",
    "        for j in range(i+1):  #Considering prior probab of attack =0\n",
    "            P_term=((1-theta)**(j))*theta/(1-(1-theta)**(i+1))\n",
    "            if (i>0):\n",
    "                P_term*=Pmat_history[j,i-1]\n",
    "            pc_den += P_term\n",
    "            \n",
    "            #(x_hat_corr, mean, var_after_attack) = run_attack(y,j, T, sigma_b, x_hat, z, P, i)\n",
    "            #probab_z_term1 = multivariate_normal(mean=mean[i-j,:], cov=np.array(var_after_attack)[i-j,:,:]).pdf(z[:,i])\n",
    "            probab_z_term = Pmat[j,i]\n",
    "            #if(probab_z_term != probab_z_term1):\n",
    "            #    print (str(probab_z_term)+\"    \"+str(probab_z_term1))\n",
    "            #    print (\"CAUTION: VALUES MISMATCH!!!\")\n",
    "            pc_term=pc_term+P_term*probab_z_term\n",
    "        pc_term /= pc_den\n",
    "        beta=beta*pc_term\n",
    "        pi.append(beta/(1+beta))\n",
    "        \n",
    "    return pi"
   ]
  },
  {
   "cell_type": "markdown",
   "metadata": {
    "id": "gWf9_ePatX5h"
   },
   "source": [
    "##**Generating Data**"
   ]
  },
  {
   "cell_type": "markdown",
   "metadata": {
    "id": "iHXaj7jluMji"
   },
   "source": [
    "Defining hyperparameters & variables for generating data"
   ]
  },
  {
   "cell_type": "code",
   "execution_count": null,
   "metadata": {
    "id": "9JjY7z1PtcpS"
   },
   "outputs": [],
   "source": [
    "N=100\n",
    "theta=0.05  # https://homepage.divms.uiowa.edu/~mbognar/applets/geo1.html\n",
    "#sets P(t>100)=0.00562\n",
    "\n",
    "\n",
    "pi_0=0.0                #Prior probability of attack\n",
    "T=np.eye(2)\n",
    "b=np.ones(2)*0\n",
    "\n",
    "z_set=[]\n",
    "pi_set=[]\n",
    "attack_instance_set=[]\n",
    "y_set = []\n",
    "x_set = []\n",
    "x_hat_set = []\n",
    "num_paths=10000\n",
    "\n",
    "T = np.identity(2)*(-1)    #Attack Matrix T\n",
    "sigma_b = np.identity(2)*0 #Variance of Attack noise"
   ]
  },
  {
   "cell_type": "markdown",
   "metadata": {
    "id": "MQTsucwbuleV"
   },
   "source": [
    "Running loop to generate sample paths"
   ]
  },
  {
   "cell_type": "code",
   "execution_count": null,
   "metadata": {
    "colab": {
     "base_uri": "https://localhost:8080/"
    },
    "id": "z6QeQdDUuYX4",
    "outputId": "619f6feb-229c-4bbb-9701-c997970cdefc"
   },
   "outputs": [],
   "source": [
    "for i in range(num_paths):\n",
    "    t=np.random.geometric(p=theta)\n",
    "\n",
    "    if t>N:\n",
    "        t=-1\n",
    "    attack_instant =t                  #change =-1 to test for false positives\n",
    "\n",
    "    print('path', i, ':')\n",
    "    (x,y) = run_process(N)\n",
    "    (x_hat, z, P, var) = run(y, attack_instant, T, sigma_b)\n",
    "    pi=get_pi_seq(z,var,y,x_hat,P,t)\n",
    "    \n",
    "    z_set.append(z)\n",
    "    pi_set.append(pi)\n",
    "    attack_instance_set.append(attack_instant)\n",
    "    x_set.append(x)\n",
    "    y_set.append(y)\n",
    "    x_hat_set.append(x_hat)"
   ]
  },
  {
   "cell_type": "markdown",
   "metadata": {
    "id": "CAjU2nA1HFDa"
   },
   "source": [
    "Saving the data"
   ]
  },
  {
   "cell_type": "code",
   "execution_count": null,
   "metadata": {
    "id": "AGBk3P6rHFTl"
   },
   "outputs": [],
   "source": [
    "np.save('z_set.npy',z_set)\n",
    "np.save('pi_set.npy',pi_set)\n",
    "np.save('attack_instance_set.npy',attack_instance_set)\n",
    "np.save('x_set.npy', x_set)\n",
    "np.save('y_set.npy', y_set)\n",
    "np.save('x_hat_set.npy', x_hat_set)"
   ]
  },
  {
   "cell_type": "code",
   "execution_count": null,
   "metadata": {
    "colab": {
     "base_uri": "https://localhost:8080/"
    },
    "id": "pAZN9-Ek8EPR",
    "outputId": "554acc89-85f0-45d9-83c3-342fa380a347"
   },
   "outputs": [
    {
     "name": "stdout",
     "output_type": "stream",
     "text": [
      "[[1 0]\n",
      " [0 1]]\n"
     ]
    }
   ],
   "source": [
    "print(A)"
   ]
  },
  {
   "cell_type": "code",
   "execution_count": null,
   "metadata": {
    "id": "t00GKkH-8Z0c"
   },
   "outputs": [],
   "source": [
    "np.save('A.npy',A)"
   ]
  },
  {
   "cell_type": "code",
   "execution_count": null,
   "metadata": {
    "id": "0ApalDE6XYly"
   },
   "outputs": [],
   "source": []
  }
 ],
 "metadata": {
  "colab": {
   "collapsed_sections": [],
   "name": "FDIGenerateDataNew.ipynb",
   "provenance": []
  },
  "kernelspec": {
   "display_name": "Python 3",
   "language": "python",
   "name": "python3"
  },
  "language_info": {
   "codemirror_mode": {
    "name": "ipython",
    "version": 3
   },
   "file_extension": ".py",
   "mimetype": "text/x-python",
   "name": "python",
   "nbconvert_exporter": "python",
   "pygments_lexer": "ipython3",
   "version": "3.8.5"
  }
 },
 "nbformat": 4,
 "nbformat_minor": 1
}
